{
 "cells": [
  {
   "cell_type": "code",
   "execution_count": 2,
   "id": "9a97c063",
   "metadata": {},
   "outputs": [
    {
     "name": "stdout",
     "output_type": "stream",
     "text": [
      "Positive\n",
      "Even\n"
     ]
    }
   ],
   "source": [
    "##Q1,Q2,Q3,Q4\n",
    "a=int(input(\"enter a number\"))\n",
    "if a > 0:\n",
    "    print(\"Positive\")\n",
    "elif a < 0:\n",
    "    print(\"Negative\")\n",
    "else:\n",
    "    print(\"Zero\")\n",
    "if a % 2 == 0:\n",
    "    print(\"Even\")\n",
    "else:\n",
    "    print(\"Odd\")"
   ]
  },
  {
   "cell_type": "code",
   "execution_count": 7,
   "id": "89faccca",
   "metadata": {},
   "outputs": [
    {
     "name": "stdout",
     "output_type": "stream",
     "text": [
      "1\n",
      "2\n",
      "3\n",
      "4\n",
      "5\n",
      "6\n",
      "7\n",
      "8\n",
      "9\n",
      "10\n",
      "1\n",
      "2\n",
      "3\n",
      "4\n",
      "5\n",
      "6\n",
      "7\n",
      "8\n",
      "9\n",
      "10\n",
      "*****\n",
      "*****\n",
      "*****\n",
      "*****\n",
      "*****\n"
     ]
    }
   ],
   "source": [
    "##Q5,Q6,Q7\n",
    "for i in range(1,11):\n",
    "    print(i)\n",
    "\n",
    "j=1\n",
    "while j<11:\n",
    "    print(j)\n",
    "    j += 1\n",
    "\n",
    "for i in range(5):\n",
    "    for j in range(5):\n",
    "        print(\"*\", end=\"\")\n",
    "    print()"
   ]
  },
  {
   "cell_type": "code",
   "execution_count": 13,
   "id": "8cf109e5",
   "metadata": {},
   "outputs": [
    {
     "name": "stdout",
     "output_type": "stream",
     "text": [
      "64\n",
      "1\n",
      "2\n",
      "3\n",
      "4\n",
      "6\n",
      "7\n",
      "8\n",
      "9\n",
      "10\n"
     ]
    }
   ],
   "source": [
    "##Q8,Q9,Q10\n",
    "sum=0\n",
    "while True:\n",
    "    n = int(input(\"Enter a number (0 to stop): \"))\n",
    "    if n == 0:\n",
    "        break\n",
    "    sum += n\n",
    "print(sum)   \n",
    "\n",
    "for i in range(1, 11):\n",
    "    if i==5:\n",
    "        continue\n",
    "    print(i)\n",
    "\n",
    "def random_function():\n",
    "    pass\n",
    "random_function()  "
   ]
  },
  {
   "cell_type": "code",
   "execution_count": 16,
   "id": "3da1977f",
   "metadata": {},
   "outputs": [
    {
     "name": "stdout",
     "output_type": "stream",
     "text": [
      "2\n",
      "4\n",
      "120\n"
     ]
    }
   ],
   "source": [
    "##Q11,Q12\n",
    "num=int(input(\"Enter a number: \"))\n",
    "for i in range(1,num+1):\n",
    "    if i %2 != 0:\n",
    "        pass\n",
    "    else:\n",
    "        print(i)\n",
    "\n",
    "ran=int(input(\"Enter a number: \"))\n",
    "factorial = 1\n",
    "while True:\n",
    "    factorial= factorial * ran\n",
    "    ran -= 1\n",
    "    if ran == 1:\n",
    "        break\n",
    "print(factorial)"
   ]
  },
  {
   "cell_type": "code",
   "execution_count": null,
   "id": "c42de04b",
   "metadata": {},
   "outputs": [
    {
     "name": "stdout",
     "output_type": "stream",
     "text": [
      "14\n",
      "Prime\n"
     ]
    }
   ],
   "source": [
    "##Q13,Q14\n",
    "sum=0\n",
    "random=1\n",
    "n=int(input(\"Enter a number: \"))\n",
    "while True:\n",
    "    random = n%10\n",
    "    sum = sum + random\n",
    "    n = n // 10\n",
    "    if n == 0:\n",
    "        break\n",
    "print(sum)\n",
    "\n",
    "prime=int(input(\"Enter a number: \"))\n",
    "if prime > 1:\n",
    "    for i in range (2,prime):\n",
    "        if (prime % i) == 0:\n",
    "            break\n",
    "    else:\n",
    "        print(\"Prime\")\n",
    "\n",
    "\n",
    "\n",
    "\n"
   ]
  },
  {
   "cell_type": "code",
   "execution_count": 23,
   "id": "dd2bc787",
   "metadata": {},
   "outputs": [
    {
     "name": "stdout",
     "output_type": "stream",
     "text": [
      "1\n",
      "1\n",
      "2\n",
      "3\n",
      "5\n"
     ]
    }
   ],
   "source": [
    "##Q15\n",
    "n=int(input(\"Enter a number: \"))\n",
    "f=1\n",
    "g=0\n",
    "for i in range(1, n+1):\n",
    "    third= f + g\n",
    "    f,g= g, third\n",
    "    print(third)\n",
    "    "
   ]
  },
  {
   "cell_type": "code",
   "execution_count": 12,
   "id": "37ed3af9",
   "metadata": {},
   "outputs": [
    {
     "name": "stdout",
     "output_type": "stream",
     "text": [
      "[1, 2, 3, 4, 5]\n",
      "[3, 4]\n",
      "[1, 2, 3, 4, 5, 6, 7, 8, 9]\n"
     ]
    }
   ],
   "source": [
    "lst=[1,2,3,4,5]\n",
    "print (lst)\n",
    "print (lst[2:4])\n",
    "r=range(1, 10)\n",
    "print(list(r))"
   ]
  },
  {
   "cell_type": "markdown",
   "id": "8a3dfc4b",
   "metadata": {},
   "source": [
    "# Module 2: Control Flow Assignments\n",
    "## Lesson 2.1: Conditional Statements\n",
    "### Assignment 1: Simple if Statement\n",
    "\n",
    "Write a program that asks the user to input a number and prints whether the number is positive.\n",
    "\n",
    "\n",
    "### Assignment 2: if-else Statement\n",
    "\n",
    "Write a program that asks the user to input a number and prints whether the number is positive or negative.\n",
    "\n",
    "### Assignment 3: if-elif-else Statement\n",
    "\n",
    "Write a program that asks the user to input a number and prints whether the number is positive, negative, or zero.\n",
    "\n",
    "### Assignment 4: Nested if Statement\n",
    "\n",
    "Write a program that asks the user to input a number and prints whether the number is positive and even, positive and odd, or negative.\n",
    "\n",
    "## Lesson 2.2: Loops\n",
    "### Assignment 5: for Loop\n",
    "\n",
    "Write a program that prints all the numbers from 1 to 10 using a for loop.\n",
    "\n",
    "### Assignment 6: while Loop\n",
    "\n",
    "Write a program that prints all the numbers from 1 to 10 using a while loop.\n",
    "\n",
    "### Assignment 7: Nested Loops\n",
    "\n",
    "Write a program that prints a 5x5 grid of asterisks (*) using nested loops.\n",
    "\n",
    "### Assignment 8: break Statement\n",
    "\n",
    "Write a program that asks the user to input numbers until they input 0. The program should print the sum of all the input numbers.\n",
    "\n",
    "### Assignment 9: continue Statement\n",
    "\n",
    "Write a program that prints all the numbers from 1 to 10 except 5 using a for loop and continue statement.\n",
    "\n",
    "### Assignment 10: pass Statement\n",
    "\n",
    "Write a program that defines an empty function using the pass statement.\n",
    "\n",
    "### Assignment 11: Combining Loops and Conditionals\n",
    "\n",
    "Write a program that asks the user to input a number and prints all the even numbers from 1 to that number using a for loop.\n",
    "\n",
    "### Assignment 12: Factorial Calculation\n",
    "\n",
    "Write a program that calculates the factorial of a number input by the user using a while loop.\n",
    "\n",
    "### Assignment 13: Sum of Digits\n",
    "\n",
    "Write a program that calculates the sum of the digits of a number input by the user using a while loop.\n",
    "\n",
    "### Assignment 14: Prime Number Check\n",
    "\n",
    "Write a program that checks if a number input by the user is a prime number using a for loop.\n",
    "\n",
    "### Assignment 15: Fibonacci Sequence\n",
    "\n",
    "Write a program that prints the first n Fibonacci numbers, where n is input by the user."
   ]
  }
 ],
 "metadata": {
  "kernelspec": {
   "display_name": "Python 3",
   "language": "python",
   "name": "python3"
  },
  "language_info": {
   "codemirror_mode": {
    "name": "ipython",
    "version": 3
   },
   "file_extension": ".py",
   "mimetype": "text/x-python",
   "name": "python",
   "nbconvert_exporter": "python",
   "pygments_lexer": "ipython3",
   "version": "3.13.5"
  }
 },
 "nbformat": 4,
 "nbformat_minor": 5
}
