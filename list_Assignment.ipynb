{
 "cells": [
  {
   "cell_type": "code",
   "execution_count": 21,
   "id": "107ff720",
   "metadata": {},
   "outputs": [
    {
     "name": "stdout",
     "output_type": "stream",
     "text": [
      "[1, 2, 3, 4, 5, 6, 7, 8, 9, 10, 11, 12, 13, 14, 15, 16, 17, 18, 19, 20]\n",
      "1\n",
      "11\n",
      "20\n",
      "[1, 2, 3, 4, 5]\n",
      "[16, 17, 18, 19, 20]\n",
      "[6, 7, 8, 9, 10, 11, 12, 13, 14, 15, 16]\n",
      "[2, 4, 6, 8, 10, 12, 14, 16, 18, 20]\n"
     ]
    }
   ],
   "source": [
    "##Q1,Q2,Q3,Q5\n",
    "lst=list(range(1, 21))\n",
    "print(lst)\n",
    "\n",
    "print(lst[0])\n",
    "print(lst[len(lst)//2])\n",
    "print(lst[-1])\n",
    "\n",
    "print(lst[:5])\n",
    "print(lst[15:])\n",
    "print(lst[5:16])\n",
    "\n",
    "lst3=[x for x in lst if x % 2 == 0]\n",
    "print(lst3)"
   ]
  },
  {
   "cell_type": "code",
   "execution_count": 31,
   "id": "ea321b6c",
   "metadata": {},
   "outputs": [
    {
     "name": "stdout",
     "output_type": "stream",
     "text": [
      "[0, 1, 2, 3, 4, 5, 6, 7, 8, 9, 46, 234, 463, 643, 3653]\n",
      "[3653, 643, 463, 234, 46, 9, 8, 7, 6, 5, 4, 3, 2, 1, 0]\n",
      "[1, 2, 3]\n",
      "[4, 5, 6]\n",
      "[7, 8, 9]\n",
      "6\n"
     ]
    }
   ],
   "source": [
    "##Q4,Q6,Q7\n",
    "number=1\n",
    "lst2=list(range(1,11))\n",
    "[number**2 for number in lst2]\n",
    "\n",
    "lst4=[1,2,4,4,2,4,5,2,6,8,6,46,3653,234,643,2,2,463,2,3,4,5,6,7,8,9,0]\n",
    "lst4=list(set(lst4))\n",
    "lst4.sort()\n",
    "print(lst4)\n",
    "lst5=lst4[::-1]\n",
    "print(lst5)\n",
    "\n",
    "matrix = [\n",
    "    [1, 2, 3],\n",
    "    [4, 5, 6],\n",
    "    [7, 8, 9]\n",
    "]\n",
    "for row in matrix:\n",
    "    print(row)\n",
    "print(matrix[1][2])"
   ]
  },
  {
   "cell_type": "code",
   "execution_count": 41,
   "id": "a8ed293b",
   "metadata": {},
   "outputs": [
    {
     "name": "stdout",
     "output_type": "stream",
     "text": [
      "[[1, 2, 3], [4, 5], [6, 7, 8]]\n",
      "[1, 2, 3, 4, 5, 6, 7, 8]\n",
      "[1, 2, 4, 5, 7, 99, 8, 10]\n",
      "[1, 2, 3, 4, 5, 6, 7, 8, 9, 10]\n",
      "[10, 9, 8, 7, 6, 5, 4, 3, 2, 1]\n",
      "[1, 2, 8, 10]\n",
      "[4, 5, 1, 2, 3]\n"
     ]
    }
   ],
   "source": [
    "##Q10,Q11,Q13,Q15,Q14\n",
    "def flatten(lst12):\n",
    "    flat_list = [item for sublist in lst12 for item in sublist]\n",
    "    return flat_list\n",
    "lst12 = [[1, 2, 3], [4, 5], [6, 7, 8]]\n",
    "lst13 = flatten(lst12)\n",
    "print(lst12)\n",
    "print(lst13)\n",
    "\n",
    "lst6=list(range(1, 11))\n",
    "del lst6[2]\n",
    "del lst6[4]\n",
    "del lst6[6]\n",
    "lst6.insert(5,99)\n",
    "print (lst6)\n",
    "\n",
    "def reverse_list(lst):\n",
    "    return lst[::-1]\n",
    "\n",
    "lst7=[1,2,3,4,5,6,7,8,9,10]\n",
    "print (lst7)\n",
    "lst8=reverse_list(lst7)\n",
    "print (lst8)\n",
    "\n",
    "lst9=[1,2,3,4,5,6,7,8,9,10]\n",
    "lst10=[29,91,23,1,2,32,12,8,33,10]\n",
    "lst11=[x for x in lst9 if x in lst10]\n",
    "print(lst11)\n",
    "\n",
    "def rotate(lst13, n):\n",
    "    n = n % len(lst13)  # Handle cases where n is larger than the list length\n",
    "    return lst13[-n:] + lst13[:-n]\n",
    "lst13 = [1, 2, 3, 4, 5]\n",
    "rotated_list = rotate(lst13, 2)\n",
    "print(rotated_list)"
   ]
  },
  {
   "cell_type": "markdown",
   "id": "3a3a9bb3",
   "metadata": {},
   "source": [
    "# Module 3: Data Structures Assignments\n",
    "## Lesson 3.1: Lists\n",
    "### Assignment 1: Creating and Accessing Lists\n",
    "\n",
    "Create a list of the first 20 positive integers. Print the list.\n",
    "\n",
    "### Assignment 2: Accessing List Elements\n",
    "\n",
    "Print the first, middle, and last elements of the list created in Assignment 1.\n",
    "\n",
    "### Assignment 3: List Slicing\n",
    "\n",
    "Print the first five elements, the last five elements, and the elements from index 5 to 15 of the list created in Assignment 1.\n",
    "\n",
    "### Assignment 4: List Comprehensions\n",
    "\n",
    "Create a new list containing the squares of the first 10 positive integers using a list comprehension. Print the new list.\n",
    "\n",
    "### Assignment 5: Filtering Lists\n",
    "\n",
    "Create a new list containing only the even numbers from the list created in Assignment 1 using a list comprehension. Print the new list.\n",
    "\n",
    "### Assignment 6: List Methods\n",
    "\n",
    "Create a list of random numbers and sort it in ascending and descending order. Remove the duplicates from the list and print the modified list.\n",
    "\n",
    "### Assignment 7: Nested Lists\n",
    "\n",
    "Create a nested list representing a 3x3 matrix and print the matrix. Access and print the element at the second row and third column.\n",
    "\n",
    "### Assignment 8: List of Dictionaries\n",
    "\n",
    "Create a list of dictionaries where each dictionary represents a student with keys 'name' and 'score'. Sort the list of dictionaries by the 'score' in descending order and print the sorted list.\n",
    "\n",
    "### Assignment 9: Matrix Transposition\n",
    "\n",
    "Write a function that takes a 3x3 matrix (nested list) as input and returns its transpose. Print the original and transposed matrices.\n",
    "\n",
    "### Assignment 10: Flattening a Nested List\n",
    "\n",
    "Write a function that takes a nested list and flattens it into a single list. Print the original and flattened lists.\n",
    "\n",
    "### Assignment 11: List Manipulation\n",
    "\n",
    "Create a list of the first 10 positive integers. Remove the elements at indices 2, 4, and 6, and insert the element '99' at index 5. Print the modified list.\n",
    "\n",
    "### Assignment 12: List Zipping\n",
    "\n",
    "Create two lists of the same length. Use the `zip` function to combine these lists into a list of tuples and print the result.\n",
    "\n",
    "### Assignment 13: List Reversal\n",
    "\n",
    "Write a function that takes a list and returns a new list with the elements in reverse order. Print the original and reversed lists.\n",
    "\n",
    "### Assignment 14: List Rotation\n",
    "\n",
    "Write a function that rotates a list by n positions. Print the original and rotated lists.\n",
    "\n",
    "### Assignment 15: List Intersection\n",
    "\n",
    "Write a function that takes two lists and returns a new list containing only the elements that are present in both lists. Print the intersected list."
   ]
  },
  {
   "cell_type": "code",
   "execution_count": null,
   "id": "1f4c012d",
   "metadata": {},
   "outputs": [],
   "source": []
  },
  {
   "cell_type": "code",
   "execution_count": null,
   "metadata": {},
   "outputs": [],
   "source": []
  }
 ],
 "metadata": {
  "kernelspec": {
   "display_name": "Python 3",
   "language": "python",
   "name": "python3"
  },
  "language_info": {
   "codemirror_mode": {
    "name": "ipython",
    "version": 3
   },
   "file_extension": ".py",
   "mimetype": "text/x-python",
   "name": "python",
   "nbconvert_exporter": "python",
   "pygments_lexer": "ipython3",
   "version": "3.13.5"
  }
 },
 "nbformat": 4,
 "nbformat_minor": 5
}
